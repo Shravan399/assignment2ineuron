{
 "cells": [
  {
   "cell_type": "markdown",
   "metadata": {},
   "source": [
    "# Assignment 2"
   ]
  },
  {
   "cell_type": "markdown",
   "metadata": {},
   "source": [
    "### Write a Python Program to implement your own myreduce() function which works exactly like Python's built-in function reduce()\n"
   ]
  },
  {
   "cell_type": "code",
   "execution_count": 1,
   "metadata": {},
   "outputs": [],
   "source": [
    "def sum(x1,x2):\n",
    "    return x1*x2"
   ]
  },
  {
   "cell_type": "code",
   "execution_count": 2,
   "metadata": {},
   "outputs": [],
   "source": [
    "def myreduce(function,val):\n",
    "    s=val[0]\n",
    "    for i in range(1,len(val)):\n",
    "        s = function(s,val[i])\n",
    "    yield s"
   ]
  },
  {
   "cell_type": "code",
   "execution_count": 3,
   "metadata": {},
   "outputs": [
    {
     "name": "stdout",
     "output_type": "stream",
     "text": [
      "[120]\n",
      "[18]\n"
     ]
    }
   ],
   "source": [
    "import operator\n",
    "print(list(myreduce(operator.mul,[1,10,3,4])))\n",
    "print(list(myreduce(operator.add,[1,10,3,4])))\n"
   ]
  },
  {
   "cell_type": "markdown",
   "metadata": {},
   "source": [
    "### Write a Python program to implement your own myfilter() function which works exactly like Python's built-in function filter()"
   ]
  },
  {
   "cell_type": "code",
   "execution_count": 4,
   "metadata": {},
   "outputs": [],
   "source": [
    "def prime(val):\n",
    "    if val > 1:\n",
    "        for i in range(2,val):\n",
    "            if (val % i) == 0:\n",
    "                return False\n",
    "                break\n",
    "        else :\n",
    "            return True\n",
    "    else :\n",
    "        return False "
   ]
  },
  {
   "cell_type": "code",
   "execution_count": 5,
   "metadata": {},
   "outputs": [],
   "source": [
    "def myfilter(func ,ls):\n",
    "    lst =ls\n",
    "    if func is None:\n",
    "        for i in lst:\n",
    "            if i is not False and i !='' and i != None:\n",
    "                yield i\n",
    "    else :\n",
    "        for i in lst:\n",
    "            val= func(i)\n",
    "            if val is True:\n",
    "                yield i\n",
    "            else :\n",
    "                yield i\n"
   ]
  },
  {
   "cell_type": "code",
   "execution_count": 6,
   "metadata": {},
   "outputs": [
    {
     "name": "stdout",
     "output_type": "stream",
     "text": [
      "2\n",
      "3\n",
      "4\n",
      "5\n",
      "6\n",
      "11\n"
     ]
    }
   ],
   "source": [
    "re = myfilter(prime,[2,3,4,5,6,11])\n",
    "\n",
    "for i in re:\n",
    "    print(i)\n"
   ]
  },
  {
   "cell_type": "markdown",
   "metadata": {},
   "source": [
    "### 2. Implement List comprehensions to produce the following lists. Write List comprehensions to produce the following Lists"
   ]
  },
  {
   "cell_type": "markdown",
   "metadata": {},
   "source": [
    "### ['A', 'C', 'A', 'D', 'G', 'I', ’L’, ‘ D’]\n"
   ]
  },
  {
   "cell_type": "code",
   "execution_count": 7,
   "metadata": {},
   "outputs": [
    {
     "name": "stdout",
     "output_type": "stream",
     "text": [
      "['A', 'C', 'A', 'D', 'G', 'I', 'L', 'D']\n"
     ]
    }
   ],
   "source": [
    "st='ACADGILD'\n",
    "lst = [str(x) for x in st]\n",
    "print(lst)"
   ]
  },
  {
   "cell_type": "markdown",
   "metadata": {},
   "source": [
    "### ['x', 'xx', 'xxx', 'xxxx', 'y', 'yy', 'yyy', 'yyyy', 'z', 'zz', 'zzz', 'zzzz']\n"
   ]
  },
  {
   "cell_type": "code",
   "execution_count": 8,
   "metadata": {},
   "outputs": [
    {
     "name": "stdout",
     "output_type": "stream",
     "text": [
      "['X', 'XX', 'XXX', 'XXXX', 'Y', 'YY', 'YYY', 'YYYY', 'Z', 'ZZ', 'ZZZ', 'ZZZZ']\n"
     ]
    }
   ],
   "source": [
    "l =['X','Y','Z']\n",
    "result =[l[i]*j for i in range(len(l)) for j in range(1,5)]\n",
    "print(result)"
   ]
  },
  {
   "cell_type": "markdown",
   "metadata": {},
   "source": [
    "### ['x', 'y', 'z', 'xx', 'yy', 'zz', 'xx', 'yy', 'zz', 'xxxx', 'yyyy', 'zzzz']"
   ]
  },
  {
   "cell_type": "code",
   "execution_count": 9,
   "metadata": {},
   "outputs": [
    {
     "name": "stdout",
     "output_type": "stream",
     "text": [
      "['X', 'Y', 'Z', 'XX', 'YY', 'ZZ', 'XXX', 'YYY', 'ZZZ', 'XXXX', 'YYYY', 'ZZZZ']\n"
     ]
    }
   ],
   "source": [
    "result =[l[j]*i for i in range(1,5) for j in range(len(l))]\n",
    "print(result)"
   ]
  },
  {
   "cell_type": "markdown",
   "metadata": {},
   "source": [
    "### [[2], [3], [4], [3], [4], [5], [4], [5], [6]]"
   ]
  },
  {
   "cell_type": "code",
   "execution_count": 10,
   "metadata": {},
   "outputs": [],
   "source": [
    "# fuction \n",
    "def lst_pattern(lst , pat_size):\n",
    "    l=[]\n",
    "    for i in range(len(lst)):\n",
    "        for j in range(pat_size):\n",
    "            l.append([lst[i+j]])\n",
    "        if len(lst) <= i+pat_size:\n",
    "            break\n",
    "    print(l)\n"
   ]
  },
  {
   "cell_type": "code",
   "execution_count": 11,
   "metadata": {},
   "outputs": [
    {
     "name": "stdout",
     "output_type": "stream",
     "text": [
      "[[1], [3], [5], [3], [5], [7], [5], [7], [9]]\n"
     ]
    }
   ],
   "source": [
    "lst_pattern([1,3,5,7,9],3)"
   ]
  },
  {
   "cell_type": "code",
   "execution_count": 12,
   "metadata": {},
   "outputs": [
    {
     "name": "stdout",
     "output_type": "stream",
     "text": [
      "[[2], [3], [4], [3], [4], [5], [4], [5], [6]]\n"
     ]
    }
   ],
   "source": [
    "print([[i+j] for j in range(2,5) for i in range(3)])\n"
   ]
  },
  {
   "cell_type": "markdown",
   "metadata": {},
   "source": [
    "### [[2, 3, 4, 5], [3, 4, 5, 6], [4, 5, 6, 7], [5, 6, 7, 8]]\n"
   ]
  },
  {
   "cell_type": "code",
   "execution_count": 13,
   "metadata": {},
   "outputs": [],
   "source": [
    "def lst_pattern_2(lst , pat_size):\n",
    "    l=[]\n",
    "    f=[]\n",
    "    for i in range(len(lst)):\n",
    "        for j in range(pat_size):\n",
    "            l.append(lst[i+j])\n",
    "        f.append(l)\n",
    "        l=[]\n",
    "        if len(lst) <= i+pat_size:\n",
    "            break\n",
    "    print(f)\n"
   ]
  },
  {
   "cell_type": "code",
   "execution_count": 14,
   "metadata": {},
   "outputs": [
    {
     "name": "stdout",
     "output_type": "stream",
     "text": [
      "[[2, 3, 4, 9], [3, 4, 9, 6], [4, 9, 6, 7], [9, 6, 7, 8]]\n"
     ]
    }
   ],
   "source": [
    "lst_pattern_2([2,3,4,9,6,7,8],4)"
   ]
  },
  {
   "cell_type": "code",
   "execution_count": 15,
   "metadata": {},
   "outputs": [
    {
     "name": "stdout",
     "output_type": "stream",
     "text": [
      "[[2, 3, 4, 5], [3, 4, 5, 6], [4, 5, 6, 7], [5, 6, 7, 8]]\n"
     ]
    }
   ],
   "source": [
    "print([[i+j for j in range(2,6)] for i in range(4) ])"
   ]
  },
  {
   "cell_type": "markdown",
   "metadata": {},
   "source": [
    "### [(1, 1), (2, 1), (3, 1), (1, 2), (2, 2), (3, 2), (1, 3), (2, 3), (3, 3)]"
   ]
  },
  {
   "cell_type": "code",
   "execution_count": 16,
   "metadata": {},
   "outputs": [
    {
     "name": "stdout",
     "output_type": "stream",
     "text": [
      "[(1, 1), (2, 1), (3, 1), (1, 2), (2, 2), (3, 2), (1, 3), (2, 3), (3, 3)]\n"
     ]
    }
   ],
   "source": [
    "print([(j,i) for i in range(1,4) for j in range(1,4)])"
   ]
  },
  {
   "cell_type": "markdown",
   "metadata": {},
   "source": [
    "## 3.Implement a function longestWord() that takes a list of words and returns the longest one"
   ]
  },
  {
   "cell_type": "code",
   "execution_count": 17,
   "metadata": {},
   "outputs": [],
   "source": [
    "def longestWord(str):\n",
    "    l =0\n",
    "    st =''\n",
    "    for i in str:\n",
    "        if l <= len(i):\n",
    "            st= i\n",
    "            l=len(i)\n",
    "        else :\n",
    "            l=len(st)\n",
    "            st =st\n",
    "    print(st)\n",
    "    \n",
    "    "
   ]
  },
  {
   "cell_type": "code",
   "execution_count": 18,
   "metadata": {},
   "outputs": [
    {
     "name": "stdout",
     "output_type": "stream",
     "text": [
      "arewerwe|\n"
     ]
    }
   ],
   "source": [
    "str =['Hi','Helo','How','arewerwe|','youre']\n",
    "longestWord(str)\n"
   ]
  },
  {
   "cell_type": "markdown",
   "metadata": {},
   "source": [
    "## Task 2:"
   ]
  },
  {
   "cell_type": "markdown",
   "metadata": {},
   "source": [
    "### 1.1\n",
    "### Write a Python Program(with class concepts) to find the area of the triangle using the below formula.\n",
    "### area = (s*(s-a)*(s-b)*(s-c)) ** 0.5\n",
    "### Function to take the length of the sides of triangle from user should be defined in the parent class and function to calculate the area should be defined in subclass."
   ]
  },
  {
   "cell_type": "code",
   "execution_count": 2,
   "metadata": {},
   "outputs": [
    {
     "name": "stdout",
     "output_type": "stream",
     "text": [
      "Traingle side are a=2, b= 3,c= 4,s= 5\n",
      "15.0\n"
     ]
    }
   ],
   "source": [
    "class triangle_sides:\n",
    "    def __init__(self,a,b,c):\n",
    "        self.a=a\n",
    "        self.b=b\n",
    "        self.c=c\n",
    "\n",
    "class child(triangle_sides):\n",
    "    \n",
    "    def __init__(self,a,b,c,s):\n",
    "        super().__init__(a,b,c)\n",
    "        self.s=s\n",
    "      \n",
    "    def area(self):\n",
    "        return (self.s * (self.s - self.a) * (self.s- self.b) * (self.s-self.c))* 0.5\n",
    "    \n",
    "    def __str__(self):\n",
    "        return str('Traingle side are a=%d, b= %d,c= %d,s= %d' %(self.a,self.b,self.c,self.s))\n",
    "\n",
    "x = child(2,3,4,5)\n",
    "print(x)\n",
    "print(x.area())"
   ]
  },
  {
   "cell_type": "markdown",
   "metadata": {},
   "source": [
    "### 1.2\n",
    "### Write a function filter_long_words() that takes a list of words and an integer n and returns the list of words that are longer than n."
   ]
  },
  {
   "cell_type": "code",
   "execution_count": 18,
   "metadata": {},
   "outputs": [],
   "source": [
    "def filter_long_words(lst,n):\n",
    "    long_words =[]\n",
    "    for i in lst:\n",
    "        if len(i)>n:\n",
    "            long_words.append(i)\n",
    "    return long_words\n"
   ]
  },
  {
   "cell_type": "code",
   "execution_count": 20,
   "metadata": {},
   "outputs": [
    {
     "data": {
      "text/plain": [
       "['123123', '123as12d']"
      ]
     },
     "execution_count": 20,
     "metadata": {},
     "output_type": "execute_result"
    }
   ],
   "source": [
    "filter_long_words(['12312','123123','123as12d'],5)"
   ]
  },
  {
   "cell_type": "markdown",
   "metadata": {},
   "source": [
    "### 2.1\n",
    "### Write a Python program using function concept that maps list of words into a list of integers representing the lengths of the corresponding words .\n",
    "### Hint: If a list [ ab,cde,erty] is passed on to the python function output should come as [2,3,4]\n",
    "### Here 2,3 and 4 are the lengths of the words in the list."
   ]
  },
  {
   "cell_type": "code",
   "execution_count": 43,
   "metadata": {},
   "outputs": [
    {
     "name": "stdout",
     "output_type": "stream",
     "text": [
      "[2, 3, 4]\n"
     ]
    }
   ],
   "source": [
    "lst=['ab','cde','erty']\n",
    "\n",
    "a= map(int,[len(i) for i in lst])\n",
    "print(list(a))"
   ]
  },
  {
   "cell_type": "markdown",
   "metadata": {},
   "source": [
    "### 2.2\n",
    "### Write a Python function which takes a character (i.e. a string of length 1) and returns True if it is a vowel, False otherwise."
   ]
  },
  {
   "cell_type": "code",
   "execution_count": 62,
   "metadata": {},
   "outputs": [],
   "source": [
    "def Find_Vowel(char):\n",
    "    char1=char.lower()\n",
    "    vowels =['a','e','i','o','u']\n",
    "    if len(char) >1:\n",
    "        print('Given string has more than 1 character \\nPlease pass single character to find the vowel or not')\n",
    "    else :\n",
    "        if char1 in vowels:\n",
    "            return True\n",
    "        else:\n",
    "            return False\n"
   ]
  },
  {
   "cell_type": "code",
   "execution_count": 64,
   "metadata": {},
   "outputs": [
    {
     "data": {
      "text/plain": [
       "True"
      ]
     },
     "execution_count": 64,
     "metadata": {},
     "output_type": "execute_result"
    }
   ],
   "source": [
    "Find_Vowel('a')"
   ]
  },
  {
   "cell_type": "code",
   "execution_count": null,
   "metadata": {},
   "outputs": [],
   "source": []
  }
 ],
 "metadata": {
  "kernelspec": {
   "display_name": "Python 3",
   "language": "python",
   "name": "python3"
  },
  "language_info": {
   "codemirror_mode": {
    "name": "ipython",
    "version": 3
   },
   "file_extension": ".py",
   "mimetype": "text/x-python",
   "name": "python",
   "nbconvert_exporter": "python",
   "pygments_lexer": "ipython3",
   "version": "3.7.4"
  }
 },
 "nbformat": 4,
 "nbformat_minor": 2
}
